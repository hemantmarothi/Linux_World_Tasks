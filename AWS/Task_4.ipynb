{
 "cells": [
  {
   "cell_type": "code",
   "execution_count": 1,
   "metadata": {},
   "outputs": [],
   "source": [
    "import boto3\n",
    "import uuid"
   ]
  },
  {
   "cell_type": "markdown",
   "metadata": {},
   "source": [
    "Amazon Polly"
   ]
  },
  {
   "cell_type": "code",
   "execution_count": null,
   "metadata": {},
   "outputs": [],
   "source": [
    "import boto3\n",
    "\n",
    "def lambda_handler(event, context):\n",
    "    s3 = boto3.client('s3')\n",
    "    polly = boto3.client('polly')\n",
    "\n",
    "    # Get the input text file from S3\n",
    "    input_bucket = event['Records'][0]['s3']['bucket']['name']\n",
    "    input_key = event['Records'][0]['s3']['object']['key']\n",
    "    input_text = s3.get_object(Bucket=input_bucket, Key=input_key)['Body'].read().decode()\n",
    "\n",
    "    # Synthesize speech using Amazon Polly\n",
    "    response = polly.synthesize_speech(\n",
    "        Text=input_text,\n",
    "        VoiceId='Joanna',\n",
    "        OutputFormat='mp3'\n",
    "    )\n",
    "\n",
    "    # Save the generated speech to S3\n",
    "    output_bucket = 'your-output-bucket'\n",
    "    output_key = 'output.mp3'\n",
    "    s3.put_object(Bucket=output_bucket, Key=output_key, Body=response['AudioStream'].read())\n"
   ]
  },
  {
   "cell_type": "markdown",
   "metadata": {},
   "source": [
    "Amazon Rekognition"
   ]
  },
  {
   "cell_type": "code",
   "execution_count": 1,
   "metadata": {},
   "outputs": [],
   "source": [
    "import boto3\n",
    "\n",
    "def lambda_handler(event, context):\n",
    "    s3 = boto3.client('s3')\n",
    "    rekognition = boto3.client('rekognition')\n",
    "\n",
    "    # Get the image from S3\n",
    "    input_bucket = event['Records'][0]['s3']['bucket']['name']\n",
    "    input_key = event['Records'][0]['s3']['object']['key']\n",
    "\n",
    "    # Detect faces using Amazon Rekognition\n",
    "    response = rekognition.detect_faces(\n",
    "        Image={'S3Object': {'Bucket': input_bucket, 'Name': input_key}}\n",
    "    )\n",
    "\n",
    "    # Process face detection results\n",
    "    for face in response['FaceDetails']:\n",
    "        print(f\"Age: {face['AgeRange']['Low']}-{face['AgeRange']['High']}\")\n",
    "        print(f\"Emotions: {face['Emotions']}\")\n"
   ]
  },
  {
   "cell_type": "markdown",
   "metadata": {},
   "source": [
    "Amazon Comprehend"
   ]
  },
  {
   "cell_type": "code",
   "execution_count": null,
   "metadata": {},
   "outputs": [],
   "source": [
    "import boto3\n",
    "\n",
    "def lambda_handler(event, context):\n",
    "    s3 = boto3.client('s3')\n",
    "    comprehend = boto3.client('comprehend')\n",
    "\n",
    "    # Get the text from S3\n",
    "    input_bucket = event['Records'][0]['s3']['bucket']['name']\n",
    "    input_key = event['Records'][0]['s3']['object']['key']\n",
    "    input_text = s3.get_object(Bucket=input_bucket, Key=input_key)['Body'].read().decode()\n",
    "\n",
    "    # Detect sentiment using Amazon Comprehend\n",
    "    response = comprehend.detect_sentiment(Text=input_text, LanguageCode='en')\n",
    "\n",
    "    sentiment = response['Sentiment']\n",
    "    print(f\"Sentiment: {sentiment}\")\n"
   ]
  },
  {
   "cell_type": "markdown",
   "metadata": {},
   "source": [
    "Amazon Transcribe"
   ]
  },
  {
   "cell_type": "code",
   "execution_count": null,
   "metadata": {},
   "outputs": [],
   "source": [
    "import boto3\n",
    "\n",
    "def lambda_handler(event, context):\n",
    "    transcribe = boto3.client('transcribe')\n",
    "\n",
    "    # Get the audio file from S3\n",
    "    input_bucket = event['Records'][0]['s3']['bucket']['name']\n",
    "    input_key = event['Records'][0]['s3']['object']['key']\n",
    "\n",
    "    # Start transcription using Amazon Transcribe\n",
    "    response = transcribe.start_transcription_job(\n",
    "        TranscriptionJobName='sample-job',\n",
    "        LanguageCode='en-IN',\n",
    "        MediaFormat='mp3',\n",
    "        Media={'MediaFileUri': f's3://{input_bucket}/{input_key}'}\n",
    "    )\n"
   ]
  },
  {
   "cell_type": "markdown",
   "metadata": {},
   "source": [
    "Amazon Translate"
   ]
  },
  {
   "cell_type": "code",
   "execution_count": null,
   "metadata": {},
   "outputs": [],
   "source": [
    "import boto3\n",
    "\n",
    "def lambda_handler(event, context):\n",
    "    s3 = boto3.client('s3')\n",
    "    translate = boto3.client('translate')\n",
    "\n",
    "    # Get the text from S3\n",
    "    input_bucket = event['Records'][0]['s3']['bucket']['name']\n",
    "    input_key = event['Records'][0]['s3']['object']['key']\n",
    "    input_text = s3.get_object(Bucket=input_bucket, Key=input_key)['Body'].read().decode()\n",
    "\n",
    "    # Translate the text using Amazon Translate\n",
    "    response = translate.translate_text(\n",
    "        Text=input_text,\n",
    "        SourceLanguageCode='en',\n",
    "        TargetLanguageCode='fr'\n",
    "    )\n",
    "\n",
    "    translated_text = response['TranslatedText']\n",
    "    print(f\"Translated: {translated_text}\")\n"
   ]
  },
  {
   "cell_type": "markdown",
   "metadata": {},
   "source": [
    "Amazon Personalize"
   ]
  },
  {
   "cell_type": "code",
   "execution_count": null,
   "metadata": {},
   "outputs": [],
   "source": [
    "import boto3\n",
    "\n",
    "def lambda_handler(event, context):\n",
    "    personalize_runtime = boto3.client('personalize-runtime')\n",
    "\n",
    "    # User ID for recommendation\n",
    "    user_id = 'user-123'\n",
    "\n",
    "    # Get recommendations using Amazon Personalize\n",
    "    response = personalize_runtime.get_recommendations(\n",
    "        campaignArn='your-campaign-arn',\n",
    "        userId=user_id\n",
    "    )\n",
    "\n",
    "    items = response['itemList']\n",
    "    print(f\"Recommended Items: {items}\")\n"
   ]
  },
  {
   "cell_type": "markdown",
   "metadata": {},
   "source": [
    "Amazon Medialive"
   ]
  },
  {
   "cell_type": "code",
   "execution_count": null,
   "metadata": {},
   "outputs": [],
   "source": [
    "import boto3\n",
    "\n",
    "def lambda_handler(event, context):\n",
    "    medialive = boto3.client('medialive')\n",
    "\n",
    "    # Define input and output settings\n",
    "    input_settings = {\n",
    "        'Url': 'your-input-url'\n",
    "    }\n",
    "    output_settings = {\n",
    "        'Url': 'your-output-url',\n",
    "        'Username': 'output-username',\n",
    "        'PasswordParam': 'output-password-param'\n",
    "    }\n",
    "\n",
    "    # Create a MediaLive channel\n",
    "    response = medialive.create_channel(\n",
    "        ChannelClass='SINGLE_PIPELINE',\n",
    "        InputAttachments=[{'InputId': 'input-1', 'InputSettings': input_settings}],\n",
    "        Destinations=[{'Id': 'destination-1', 'Settings': output_settings}],\n",
    "        EncoderSettings={\n",
    "            'AudioDescriptions': [],\n",
    "            'VideoDescriptions': [],\n",
    "            # Other encoding settings\n",
    "        }\n",
    "    )\n",
    "\n",
    "    channel_arn = response['Channel']['Arn']\n",
    "    print(f\"MediaLive Channel ARN: {channel_arn}\")\n"
   ]
  },
  {
   "cell_type": "markdown",
   "metadata": {},
   "source": [
    "Amazon Mediaconvert"
   ]
  },
  {
   "cell_type": "code",
   "execution_count": null,
   "metadata": {},
   "outputs": [],
   "source": [
    "import boto3\n",
    "\n",
    "def lambda_handler(event, context):\n",
    "    mediaconvert = boto3.client('mediaconvert')\n",
    "\n",
    "    # Define input and output settings\n",
    "    input_settings = {\n",
    "        'FileInput': 's3://your-input-bucket/your-input-file.mp4'\n",
    "    }\n",
    "    output_settings = {\n",
    "        'OutputSettings': {\n",
    "            'S3Settings': {\n",
    "                'OutputS3Uri': 's3://your-output-bucket/output-path/',\n",
    "                # Other output settings\n",
    "            }\n",
    "        }\n",
    "    }\n",
    "\n",
    "    # Create a MediaConvert job\n",
    "    response = mediaconvert.create_job(\n",
    "        Role='arn:aws:iam::your-account-id:role/your-role-name',\n",
    "        Settings=output_settings,\n",
    "        JobTemplate='your-job-template-name',\n",
    "        Queue='your-queue-name',\n",
    "        UserMetadata={'Key': 'Value'}\n",
    "    )\n",
    "\n",
    "    job_id = response['Job']['Id']\n",
    "    print(f\"MediaConvert Job ID: {job_id}\")\n"
   ]
  }
 ],
 "metadata": {
  "kernelspec": {
   "display_name": "Python 3",
   "language": "python",
   "name": "python3"
  },
  "language_info": {
   "codemirror_mode": {
    "name": "ipython",
    "version": 3
   },
   "file_extension": ".py",
   "mimetype": "text/x-python",
   "name": "python",
   "nbconvert_exporter": "python",
   "pygments_lexer": "ipython3",
   "version": "3.10.10"
  },
  "orig_nbformat": 4
 },
 "nbformat": 4,
 "nbformat_minor": 2
}
