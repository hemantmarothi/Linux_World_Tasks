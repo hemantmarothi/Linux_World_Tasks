{
 "cells": [
  {
   "cell_type": "code",
   "execution_count": null,
   "metadata": {},
   "outputs": [],
   "source": [
    "#Please before using this code change sender mail, sender_password, recipients mail id\n",
    "\n",
    "import smtplib\n",
    "from email.mime.multipart import MIMEMultipart\n",
    "from email.mime.text import MIMEText\n",
    "\n",
    "# Email configuration\n",
    "sender_email = \"your_email@example.com\"\n",
    "sender_password = \"your_email_password\"\n",
    "subject = \"Subject of the Email\"\n",
    "message = \"This is the body of the email.\"\n",
    "\n",
    "# List of recipients\n",
    "recipients = [\"recipient1@example.com\", \"recipient2@example.com\"]\n",
    "\n",
    "# Create the email content\n",
    "msg = MIMEMultipart()\n",
    "msg['From'] = sender_email\n",
    "msg['To'] = ', '.join(recipients)\n",
    "msg['Subject'] = subject\n",
    "msg.attach(MIMEText(message, 'plain'))\n",
    "\n",
    "# Connect to the SMTP server\n",
    "try:\n",
    "    server = smtplib.SMTP('smtp.gmail.com', 587)  # Replace with your SMTP server and port\n",
    "    server.starttls()  # Start a secure TLS connection\n",
    "    server.login(sender_email, sender_password)\n",
    "    \n",
    "    # Send the email to each recipient\n",
    "    for recipient in recipients:\n",
    "        msg['To'] = recipient\n",
    "        text = msg.as_string()\n",
    "        server.sendmail(sender_email, recipient, text)\n",
    "        print(f\"Email sent to {recipient}\")\n",
    "    \n",
    "    server.quit()  # Disconnect from the server\n",
    "\n",
    "except Exception as e:\n",
    "    print(f\"Error: {e}\")\n"
   ]
  }
 ],
 "metadata": {
  "language_info": {
   "name": "python"
  },
  "orig_nbformat": 4
 },
 "nbformat": 4,
 "nbformat_minor": 2
}
