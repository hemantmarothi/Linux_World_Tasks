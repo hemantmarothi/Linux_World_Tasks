{
 "cells": [
  {
   "cell_type": "code",
   "execution_count": null,
   "metadata": {},
   "outputs": [],
   "source": [
    "import speech_recognition as sr \n",
    "import pyaudio\n",
    "rec = sr.Recognizer()\n",
    "with sr.Microphone() as mic:\n",
    "    print(\"speak:\")\n",
    "    audio = rec.listen(mic, timeout=2, phrase_time_limit=4)\n",
    "    try:\n",
    "        text = rec.recognize_google(audio)\n",
    "        print(\"You said : \"+text)\n",
    "    except Exception as err:\n",
    "        print(\"Error:\", err, end='\\n\\n')"
   ]
  }
 ],
 "metadata": {
  "language_info": {
   "name": "python"
  },
  "orig_nbformat": 4
 },
 "nbformat": 4,
 "nbformat_minor": 2
}
