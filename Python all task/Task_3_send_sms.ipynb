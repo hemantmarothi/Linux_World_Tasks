{
 "cells": [
  {
   "cell_type": "code",
   "execution_count": null,
   "metadata": {},
   "outputs": [],
   "source": [
    "# Create your account on twilio then replace account_sid, auth_token and from_ number of your twilio account\n",
    "from twilio.rest import Client\n",
    "\n",
    "account_sid = 'AC32389b105d019c804e14d9a56b213b07'\n",
    "auth_token = '*******************************'\n",
    "client = Client(account_sid, auth_token)\n",
    "body = input(\"Enter the message: \")\n",
    "\n",
    "message = client.messages.create(\n",
    "  from_='+14326662450',\n",
    "  to='+918058782021',\n",
    "  body=body\n",
    ")\n",
    "\n",
    "if(message.sid):\n",
    "  print(\"Message sent successfully\")\n",
    "else:\n",
    "  print(\"Message sending failed\")"
   ]
  }
 ],
 "metadata": {
  "language_info": {
   "name": "python"
  },
  "orig_nbformat": 4
 },
 "nbformat": 4,
 "nbformat_minor": 2
}
