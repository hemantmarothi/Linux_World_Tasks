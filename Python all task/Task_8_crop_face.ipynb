{
 "cells": [
  {
   "cell_type": "code",
   "execution_count": 14,
   "metadata": {},
   "outputs": [
    {
     "ename": "IndexError",
     "evalue": "tuple index out of range",
     "output_type": "error",
     "traceback": [
      "\u001b[1;31m---------------------------------------------------------------------------\u001b[0m",
      "\u001b[1;31mIndexError\u001b[0m                                Traceback (most recent call last)",
      "Cell \u001b[1;32mIn[14], line 15\u001b[0m\n\u001b[0;32m     11\u001b[0m faces \u001b[39m=\u001b[39m face_cascade\u001b[39m.\u001b[39mdetectMultiScale(image1, scaleFactor\u001b[39m=\u001b[39m\u001b[39m1.1\u001b[39m, minNeighbors\u001b[39m=\u001b[39m\u001b[39m5\u001b[39m)\n\u001b[0;32m     13\u001b[0m \u001b[39m# Assuming only one face is detected in this example\u001b[39;00m\n\u001b[1;32m---> 15\u001b[0m x, y, w, h \u001b[39m=\u001b[39m faces[\u001b[39m0\u001b[39;49m]\n\u001b[0;32m     17\u001b[0m \u001b[39m# Crop the face from the first image\u001b[39;00m\n\u001b[0;32m     18\u001b[0m cropped_face \u001b[39m=\u001b[39m image1[y:y\u001b[39m+\u001b[39mh, x:x\u001b[39m+\u001b[39mw]\n",
      "\u001b[1;31mIndexError\u001b[0m: tuple index out of range"
     ]
    }
   ],
   "source": [
    "import cv2\n",
    "\n",
    "# Load the images\n",
    "image1 = cv2.imread('image1.jpg')\n",
    "image2 = cv2.imread('image2.jpg')\n",
    "\n",
    "# Load a pre-trained face detection model\n",
    "face_cascade = cv2.CascadeClassifier(cv2.data.haarcascades + 'haarcascade_frontalface_default.xml')\n",
    "\n",
    "# Detect faces in the first image\n",
    "faces = face_cascade.detectMultiScale(image1, scaleFactor=1.1, minNeighbors=5)\n",
    "\n",
    "# Assuming only one face is detected in this example\n",
    "\n",
    "x, y, w, h = faces[0]\n",
    "    \n",
    "# Crop the face from the first image\n",
    "cropped_face = image1[y:y+h, x:x+w]\n",
    "    \n",
    "# Resize the cropped face to match the size of the face in the second image\n",
    "resized_cropped_face = cv2.resize(cropped_face, (w, h))\n",
    "    \n",
    "    # Paste the resized face onto the second image\n",
    "image2[y:y+h, x:x+w] = resized_cropped_face\n",
    "\n",
    "    # Save or display the final image\n",
    "cv2.imwrite('final_image.jpg', image2)\n",
    "    \n",
    "    # Display the final image\n",
    "cv2.imshow('Final Image', image2)\n",
    "cv2.waitKey(0)\n",
    "cv2.destroyAllWindows()\n"
   ]
  },
  {
   "cell_type": "code",
   "execution_count": null,
   "metadata": {},
   "outputs": [],
   "source": []
  }
 ],
 "metadata": {
  "kernelspec": {
   "display_name": "Python 3",
   "language": "python",
   "name": "python3"
  },
  "language_info": {
   "codemirror_mode": {
    "name": "ipython",
    "version": 3
   },
   "file_extension": ".py",
   "mimetype": "text/x-python",
   "name": "python",
   "nbconvert_exporter": "python",
   "pygments_lexer": "ipython3",
   "version": "3.10.10"
  },
  "orig_nbformat": 4
 },
 "nbformat": 4,
 "nbformat_minor": 2
}
