{
 "cells": [
  {
   "cell_type": "code",
   "execution_count": 7,
   "metadata": {},
   "outputs": [
    {
     "ename": "AttributeError",
     "evalue": "'NoneType' object has no attribute 'shape'",
     "output_type": "error",
     "traceback": [
      "\u001b[1;31m---------------------------------------------------------------------------\u001b[0m",
      "\u001b[1;31mAttributeError\u001b[0m                            Traceback (most recent call last)",
      "Cell \u001b[1;32mIn[7], line 8\u001b[0m\n\u001b[0;32m      5\u001b[0m sunglass_image \u001b[39m=\u001b[39m cv2\u001b[39m.\u001b[39mimread(\u001b[39mr\u001b[39m\u001b[39m'\u001b[39m\u001b[39mC:\u001b[39m\u001b[39m\\\u001b[39m\u001b[39mUsers\u001b[39m\u001b[39m\\\u001b[39m\u001b[39mheman\u001b[39m\u001b[39m\\\u001b[39m\u001b[39mDesktop\u001b[39m\u001b[39m\\\u001b[39m\u001b[39mPython\u001b[39m\u001b[39m\\\u001b[39m\u001b[39mLinux World\u001b[39m\u001b[39m\\\u001b[39m\u001b[39mPython Projects\u001b[39m\u001b[39m\\\u001b[39m\u001b[39msunglass.png\u001b[39m\u001b[39m'\u001b[39m, cv2\u001b[39m.\u001b[39mIMREAD_UNCHANGED)\n\u001b[0;32m      7\u001b[0m \u001b[39m# Resize the sunglass image to fit the base image\u001b[39;00m\n\u001b[1;32m----> 8\u001b[0m sunglass_resized \u001b[39m=\u001b[39m cv2\u001b[39m.\u001b[39mresize(sunglass_image, (base_image\u001b[39m.\u001b[39;49mshape[\u001b[39m1\u001b[39m], base_image\u001b[39m.\u001b[39mshape[\u001b[39m0\u001b[39m]))\n\u001b[0;32m     10\u001b[0m \u001b[39m# Create a mask for the non-transparent parts of the sunglass\u001b[39;00m\n\u001b[0;32m     11\u001b[0m sunglass_mask \u001b[39m=\u001b[39m sunglass_resized[:, :, \u001b[39m3\u001b[39m] \u001b[39m!=\u001b[39m \u001b[39m0\u001b[39m\n",
      "\u001b[1;31mAttributeError\u001b[0m: 'NoneType' object has no attribute 'shape'"
     ]
    }
   ],
   "source": [
    "import cv2\n",
    "\n",
    "# Load the images\n",
    "base_image = cv2.imread('image1.jpg')\n",
    "sunglass_image = cv2.imread('sunglass.png', cv2.IMREAD_UNCHANGED)\n",
    "\n",
    "# Resize the sunglass image to fit the base image\n",
    "sunglass_resized = cv2.resize(sunglass_image, (base_image.shape[1], base_image.shape[0]))\n",
    "\n",
    "# Create a mask for the non-transparent parts of the sunglass\n",
    "sunglass_mask = sunglass_resized[:, :, 3] != 0\n",
    "\n",
    "# Overlay the sunglass onto the base image\n",
    "for c in range(3):\n",
    "    base_image[:, :, c] = (base_image[:, :, c] * (1 - sunglass_mask) +\n",
    "                           sunglass_resized[:, :, c] * sunglass_mask)\n",
    "\n",
    "# Display the final image\n",
    "cv2.imshow('Final Image with Sunglasses', base_image)\n",
    "cv2.waitKey(0)\n",
    "cv2.destroyAllWindows()\n"
   ]
  },
  {
   "cell_type": "code",
   "execution_count": null,
   "metadata": {},
   "outputs": [],
   "source": []
  }
 ],
 "metadata": {
  "kernelspec": {
   "display_name": "Python 3",
   "language": "python",
   "name": "python3"
  },
  "language_info": {
   "codemirror_mode": {
    "name": "ipython",
    "version": 3
   },
   "file_extension": ".py",
   "mimetype": "text/x-python",
   "name": "python",
   "nbconvert_exporter": "python",
   "pygments_lexer": "ipython3",
   "version": "3.10.10"
  },
  "orig_nbformat": 4
 },
 "nbformat": 4,
 "nbformat_minor": 2
}
