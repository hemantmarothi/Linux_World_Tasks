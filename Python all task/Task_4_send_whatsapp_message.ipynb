{
 "cells": [
  {
   "cell_type": "code",
   "execution_count": null,
   "metadata": {},
   "outputs": [],
   "source": [
    "#for reference open:-\n",
    "#https://www.askpython.com/python-modules/python-pywhatkit-send-whatsapp-messages\n",
    "\n",
    "import pywhatkit as pwk\n",
    "pwk.sendwhatmsg_instantly(\n",
    "    phone_no=\"+918058782021\", \n",
    "    message=\"Howdy! This message will be sent instantly!\",\n",
    ")\n"
   ]
  }
 ],
 "metadata": {
  "language_info": {
   "name": "python"
  },
  "orig_nbformat": 4
 },
 "nbformat": 4,
 "nbformat_minor": 2
}
